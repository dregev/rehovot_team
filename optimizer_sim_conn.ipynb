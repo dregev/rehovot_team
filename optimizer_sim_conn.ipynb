{
 "cells": [
  {
   "cell_type": "code",
   "execution_count": 3,
   "metadata": {
    "collapsed": false
   },
   "outputs": [],
   "source": [
    "import networkx as nx\n",
    "import numpy as np\n",
    "import pandas as pd\n",
    "import os\n",
    "import random\n",
    "from scipy.sparse import csr_matrix\n",
    "from sklearn.metrics import roc_auc_score\n",
    "random.seed(4)\n",
    "import matplotlib.pyplot as plt\n",
    "%matplotlib inline\n",
    "%load_ext autoreload\n",
    "%autoreload 2"
   ]
  },
  {
   "cell_type": "code",
   "execution_count": 4,
   "metadata": {
    "collapsed": false
   },
   "outputs": [],
   "source": [
    "class DMBI_hackathon_ddi_utils():\n",
    "    NODE_1 = 'node1'\n",
    "    NODE_2 = 'node2'\n",
    "    def __init__(self,number_of_drugs = 1434):\n",
    "        self.number_of_drugs = number_of_drugs\n",
    "\n",
    "    def write_list_to_file(self, list, path):\n",
    "        thefile = open(path, 'w')\n",
    "        for item in list:\n",
    "            thefile.write(\"%s\\n\" % item)\n",
    "        thefile.close()\n",
    "\n",
    "    def read_sparse_matrix(self,train_data):\n",
    "        print('creating matrix')\n",
    "        x = train_data[self.NODE_1]\n",
    "        y = train_data[self.NODE_2]\n",
    "        assert len(x) == len(y)\n",
    "        data = [1] * len(x)\n",
    "        m = csr_matrix((data,(x,y)), shape=(self.number_of_drugs, self.number_of_drugs),dtype='f')\n",
    "        print('m shape:', m.shape, 'm non zeros:', m.nnz)\n",
    "        assert np.allclose(m.todense(), m.T.todense(), atol=1e-8) #matrix is symmetric\n",
    "        return m.todense()#the matrix is small, sparse matrix is not necessary.\n",
    "    \n",
    "    def write_solution_to_file(self,preds,file_path, num_interactions_train):\n",
    "        #preds is assumed to be ordered by confidence level\n",
    "        #adds the header to the soution, combines the node IDs and writes the soךution to file\n",
    "        #asserts are important. Note them.\n",
    "        \n",
    "        print('writing predictions to file: ',file_path)\n",
    "        for u, v in preds:\n",
    "           assert u < v, 'graph is undirected, predict edges where the first node id is smaller than the second only'\n",
    "        assert len(preds) == (self.number_of_drugs * self.number_of_drugs - self.number_of_drugs - num_interactions_train) / 2, \"number of predictions is equal to number of non existing edges\"\n",
    "        output = [','.join([self.NODE_1 + '_' + self.NODE_2])]+[','.join([str(p[0]) +'_' + str(p[1])]) for p in preds]\n",
    "        self.write_list_to_file(output,file_path)\n",
    "\n",
    "    def create_holdout_set(self, m_train, train_percent = 0.9):\n",
    "        # create holdout set. the set will contain both existing and non-existing edges\n",
    "        m_train_holdout = np.matrix(m_train)\n",
    "        validation_set = set()\n",
    "        for i in range(self.number_of_drugs):\n",
    "            for j in range(i+1, self.number_of_drugs):\n",
    "                if random.random() > train_percent:\n",
    "                    validation_set.add((i, j))\n",
    "                    m_train_holdout[i, j] = 0\n",
    "                    m_train_holdout[j, i] = 0\n",
    "        return m_train_holdout, validation_set\n",
    "\n",
    "    def average_precision_at_k(self, k, class_correct):\n",
    "        #return average precision at k\n",
    "        #more examples: https://github.com/benhamner/Metrics/blob/master/Python/ml_metrics/average_precision.py\n",
    "        #and: https://www.kaggle.com/c/avito-prohibited-content#evaluation\n",
    "        #class_correct is a list with the binary correct label ordered by confidence level.\n",
    "        assert k <= len(class_correct) and k > 0        \n",
    "        score = 0.0\n",
    "        hits = 0.0\n",
    "        for i in range(k):\n",
    "            if class_correct[i] == 1:\n",
    "                hits += 1.0\n",
    "            score += hits / (i+1.0)\n",
    "        score /= k\n",
    "        return score\n",
    "\n"
   ]
  },
  {
   "cell_type": "code",
   "execution_count": 5,
   "metadata": {
    "collapsed": true
   },
   "outputs": [],
   "source": [
    "#simple prediction class\n",
    "class link_prediction_predictor:\n",
    "    def __init__(self, number_of_drugs):\n",
    "        self.G = nx.Graph()\n",
    "        self.G.add_nodes_from(range(number_of_drugs))\n",
    "\n",
    "    def fit(self, edge_list):\n",
    "        self.G.add_edges_from(edge_list)\n",
    "\n",
    "    def predict(self,prediction_set=None):\n",
    "        preds = nx.resource_allocation_index(self.G, ebunch=prediction_set)  \n",
    "        # if ebunch is None then all non-existent edges in the graph will be used.\n",
    "        preds = [(u1, v1) for (p, u1, v1) in sorted([(prediction, u, v) for (u, v, prediction) in preds],reverse=True)]  \n",
    "        #predictions are expected as described in write_solution_to_file. The values are suppose to be ordered by confidence.\n",
    "        return preds"
   ]
  },
  {
   "cell_type": "code",
   "execution_count": 6,
   "metadata": {
    "collapsed": true
   },
   "outputs": [],
   "source": [
    "def jac(A):\n",
    "    # compute Jackard coefficients    \n",
    "    cuts = A*A\n",
    "    d = A.sum(1)\n",
    "    joins = np.tile(d, [1,A.shape[0]])\n",
    "    joins = joins + joins.T - cuts   \n",
    "    J = cuts/joins\n",
    "    np.nan_to_num(J, copy=False)   \n",
    "    np.fill_diagonal(J, 1) \n",
    "    \n",
    "    return J"
   ]
  },
  {
   "cell_type": "code",
   "execution_count": 7,
   "metadata": {
    "collapsed": true
   },
   "outputs": [],
   "source": [
    "def joins(A):\n",
    "    # compute Jackard coefficients    \n",
    "    cuts = A*A\n",
    "    d = A.sum(1)\n",
    "    joins = np.tile(d, [1,A.shape[0]])\n",
    "    joins = joins + joins.T - cuts   \n",
    "    np.fill_diagonal(joins, 1) \n",
    "    \n",
    "    return joins"
   ]
  },
  {
   "cell_type": "code",
   "execution_count": 8,
   "metadata": {
    "collapsed": true
   },
   "outputs": [],
   "source": [
    "def cos_sim(A):\n",
    "    # cosine similarity\n",
    "    prods = A*A\n",
    "    norms = np.sqrt(np.sum(np.multiply(A,A), 1))\n",
    "    prods /= norms\n",
    "    prods = prods.T\n",
    "    prods /= norms\n",
    "    np.nan_to_num(prods, copy=False)   \n",
    "    return prods"
   ]
  },
  {
   "cell_type": "code",
   "execution_count": 9,
   "metadata": {
    "collapsed": false
   },
   "outputs": [],
   "source": [
    "def smart_thresh(A, Sim, k, g=10):\n",
    "    n = A.shape[0]\n",
    "    print('min: {}, max: {}'.format(np.min(Sim), np.max(Sim)))\n",
    "    T = sorted(np.linspace(np.min(Sim), np.max(Sim), g), reverse=True)\n",
    "    for i_T in range(len(T)):\n",
    "        th = T[i_T]\n",
    "        Sim_th = (Sim>th).astype(int)\n",
    "        Score = Sim_th*A*Sim_th\n",
    "        np.fill_diagonal(Score, 0)\n",
    "        pos_scores = [Score[i,j] for j in range(n) for i in range(j) if (A[i,j]==0 and Score[i,j]>0)]\n",
    "        count_pos_scores = len(pos_scores)\n",
    "        #print('th = {}, count = {}'.format(th, count_pos_scores))\n",
    "        if count_pos_scores > k:\n",
    "            print('\\nthreshold {} gives count of {}'.format(th, count_pos_scores))\n",
    "            return th\n",
    "    print('\\nthreshold: {} gives count of {}'.format(th, count_pos_scores))\n",
    "    return th"
   ]
  },
  {
   "cell_type": "code",
   "execution_count": 37,
   "metadata": {
    "collapsed": true
   },
   "outputs": [],
   "source": [
    "# def jac_predict_smart_thresh(A, k, g, self_jac=1):\n",
    "    \n",
    "#     n = A.shape[0]\n",
    "#     J = jac(A)  \n",
    "#     thresh = smart_thresh(A, J, k, g)\n",
    "#     J = (J>thresh).astype(int)\n",
    "#     np.fill_diagonal(J, self_jac) \n",
    "    \n",
    "#     Score = J*A*J\n",
    "#     np.fill_diagonal(Score, 0)    \n",
    "\n",
    "#     scores = [(i , j, Score[i,j]) for j in range(n) for i in range(j) if A[i,j]==0]\n",
    "# #    scores = [(i , j, Score[i,j]) for (i,j) in validation_set]\n",
    "#     preds = [(u1, v1) for (s, u1, v1) in sorted([(s, u, v) for (u, v, s) in scores], reverse=True)]  \n",
    "\n",
    "#     return preds"
   ]
  },
  {
   "cell_type": "code",
   "execution_count": 10,
   "metadata": {
    "collapsed": true
   },
   "outputs": [],
   "source": [
    "def predict_thresh(A, Sim, thresh, self_sim=1):\n",
    "    \n",
    "    n = A.shape[0]\n",
    "    Sim = (Sim>thresh).astype(int)\n",
    "    np.fill_diagonal(Sim, self_sim) \n",
    "    \n",
    "    Score = Sim*A*Sim\n",
    "    np.fill_diagonal(Score, 0)    \n",
    "\n",
    "    scores = [(i , j, Score[i,j]) for j in range(n) for i in range(j) if A[i,j]==0]\n",
    "    preds = [(u1, v1) for (s, u1, v1) in sorted([(s, u, v) for (u, v, s) in scores], reverse=True)]  \n",
    "\n",
    "    return preds"
   ]
  },
  {
   "cell_type": "code",
   "execution_count": 11,
   "metadata": {
    "collapsed": true
   },
   "outputs": [],
   "source": [
    "def predict_thresh_diag(A, Sim, thresh, self_sim=1):\n",
    "    \n",
    "    n = A.shape[0]\n",
    "    Sim = (Sim>thresh).astype(int)\n",
    "    np.fill_diagonal(Sim, self_sim) \n",
    "    \n",
    "    Score = Sim*A + A*Sim\n",
    "    np.fill_diagonal(Score, 0)    \n",
    "\n",
    "    scores = [(i , j, Score[i,j]) for j in range(n) for i in range(j) if A[i,j]==0]\n",
    "    preds = [(u1, v1) for (s, u1, v1) in sorted([(s, u, v) for (u, v, s) in scores], reverse=True)]  \n",
    "\n",
    "    return preds"
   ]
  },
  {
   "cell_type": "code",
   "execution_count": 17,
   "metadata": {
    "collapsed": true
   },
   "outputs": [],
   "source": [
    "def predict_soft_diag(A, Sim, self_sim=1):\n",
    "    \n",
    "    n = A.shape[0]\n",
    "    np.fill_diagonal(Sim, self_sim) \n",
    "    \n",
    "    thresh = .5\n",
    "    Sim_old = Sim.copy()\n",
    "    Sim = (Sim - thresh) / (1-thresh)\n",
    "    Sim[Sim_old<thresh] = 0\n",
    "    np.fill_diagonal(Sim, self_sim) \n",
    "    \n",
    "    Score = Sim*A + A*Sim\n",
    "    np.fill_diagonal(Score, 0)    \n",
    "\n",
    "    scores = [(i , j, Score[i,j]) for j in range(n) for i in range(j) if A[i,j]==0]\n",
    "    preds = [(u1, v1) for (s, u1, v1) in sorted([(s, u, v) for (u, v, s) in scores], reverse=True)]  \n",
    "\n",
    "    return preds"
   ]
  },
  {
   "cell_type": "code",
   "execution_count": 38,
   "metadata": {
    "collapsed": true
   },
   "outputs": [],
   "source": [
    "# def cos_sim_predict_smart_thresh(A, k, g, self_jac=1):\n",
    "    \n",
    "#     n = A.shape[0]\n",
    "#     J = cos_sim(A)  \n",
    "#     thresh = smart_thresh(A, J, k, g)\n",
    "#     J = (J>thresh).astype(int)\n",
    "#     np.fill_diagonal(J, self_jac) \n",
    "    \n",
    "#     Score = J*A*J\n",
    "#     np.fill_diagonal(Score, 0)    \n",
    "\n",
    "#     scores = [(i , j, Score[i,j]) for j in range(n) for i in range(j) if A[i,j]==0]\n",
    "# #    scores = [(i , j, Score[i,j]) for (i,j) in validation_set]\n",
    "#     preds = [(u1, v1) for (s, u1, v1) in sorted([(s, u, v) for (u, v, s) in scores], reverse=True)]  \n",
    "\n",
    "#     return preds"
   ]
  },
  {
   "cell_type": "code",
   "execution_count": 39,
   "metadata": {
    "collapsed": true
   },
   "outputs": [],
   "source": [
    "# def jac_predict_smart_soft_thresh(A, k, g, self_jac=1):\n",
    "    \n",
    "#     n = A.shape[0]\n",
    "#     J = jac(A)  \n",
    "#     #thresh = smart_thresh(A, J, k, g)\n",
    "#     thresh = .5\n",
    "#     J_old = J.copy()\n",
    "#     J = (J - thresh) / (1-thresh)\n",
    "#     J[J_old<thresh] = 0\n",
    "#     np.fill_diagonal(J, self_jac) \n",
    "    \n",
    "#     Score = J*A*J\n",
    "#     np.fill_diagonal(Score, 0)    \n",
    "\n",
    "#     scores = [(i , j, Score[i,j]) for j in range(n) for i in range(j) if A[i,j]==0]\n",
    "# #    scores = [(i , j, Score[i,j]) for (i,j) in validation_set]\n",
    "#     preds = [(u1, v1) for (s, u1, v1) in sorted([(s, u, v) for (u, v, s) in scores], reverse=True)]  \n",
    "\n",
    "#     return preds"
   ]
  },
  {
   "cell_type": "code",
   "execution_count": 18,
   "metadata": {
    "collapsed": true
   },
   "outputs": [],
   "source": [
    "def check_preds(preds, A):\n",
    "    for (i,j) in preds:\n",
    "        if A[i,j]:\n",
    "            print('Error: preds contain an existing edge: ({},{})'.format(i,j))\n",
    "            return\n",
    "    print('Good: preds do not contain existing edges!')"
   ]
  },
  {
   "cell_type": "code",
   "execution_count": 19,
   "metadata": {
    "collapsed": false
   },
   "outputs": [
    {
     "name": "stdout",
     "output_type": "stream",
     "text": [
      "creating matrix\n",
      "m shape: (1434, 1434) m non zeros: 93200\n"
     ]
    }
   ],
   "source": [
    "DMBI_hackathon_ddi = DMBI_hackathon_ddi_utils()\n",
    "train_matrix = DMBI_hackathon_ddi.read_sparse_matrix(pd.read_csv('train.csv'))"
   ]
  },
  {
   "cell_type": "code",
   "execution_count": 42,
   "metadata": {
    "collapsed": true
   },
   "outputs": [],
   "source": [
    "#Evaluate model. \n",
    "#Note that holdout is based on random decision. \n",
    "#Test set contains new interactions that random selection does not emulate."
   ]
  },
  {
   "cell_type": "code",
   "execution_count": 20,
   "metadata": {
    "collapsed": true
   },
   "outputs": [],
   "source": [
    "def test_preds(preds, m_train_holdout, train_matrix):\n",
    "#     print(len(preds))\n",
    "#     s = [x[2] for x in preds if x[2]>0]\n",
    "#     print(len(s))\n",
    "    check_preds(preds, m_train_holdout)\n",
    "    class_correct = [train_matrix[x[0],x[1]] for x in preds]\n",
    "    average_precision = DMBI_hackathon_ddi.average_precision_at_k(k=1000,class_correct=class_correct)\n",
    "    print('average precision @ 1000: ', average_precision)\n",
    "    average_precision = DMBI_hackathon_ddi.average_precision_at_k(k=2000,class_correct=class_correct)\n",
    "    print('average precision @ 2000: ', average_precision)    "
   ]
  },
  {
   "cell_type": "code",
   "execution_count": 23,
   "metadata": {
    "collapsed": true
   },
   "outputs": [],
   "source": [
    "def test_methods(percent):\n",
    "    \n",
    "    print('\\ncomputing validation on', percent)\n",
    "    A, validation_set = DMBI_hackathon_ddi.create_holdout_set(train_matrix, train_percent=percent)\n",
    "\n",
    "#     Sim = joins(A)\n",
    "#     thresh = smart_thresh(A, Sim, k=4000, g=20)\n",
    "#     print('\\njoins, k=4000, g=20, self_jac only')\n",
    "#     preds = predict_thresh_diag(A, Sim, thresh)\n",
    "#     test_preds(preds, A, train_matrix)    \n",
    "\n",
    "    Sim = cos_sim(A)\n",
    "    #thresh = smart_thresh(A, Sim, k=4000, g=50)\n",
    "    print('\\ncos_sim, sof_diag, self_jac only')\n",
    "    preds = predict_soft_diag(A, Sim)\n",
    "    test_preds(preds, A, train_matrix)    \n",
    "\n",
    "    Sim = cos_sim(A)\n",
    "    thresh = smart_thresh(A, Sim, k=8000, g=50)\n",
    "    print('\\ncos_sim, k=8000, g=20, self_jac only')\n",
    "    preds = predict_thresh_diag(A, Sim, thresh)\n",
    "    test_preds(preds, A, train_matrix)    \n",
    "\n",
    "    Sim = cos_sim(A)\n",
    "    thresh = smart_thresh(A, Sim, k=1000, g=50)\n",
    "    print('\\ncos_sim, k=1000, g=20, self_jac only')\n",
    "    preds = predict_thresh_diag(A, Sim, thresh)\n",
    "    test_preds(preds, A, train_matrix)    \n",
    "    \n",
    "    Sim = (jac(A) + cos_sim(A)) / 2\n",
    "    thresh = smart_thresh(A, Sim, k=4000, g=20)\n",
    "    print('\\nmean, k=4000, g=20, self_jac only')\n",
    "    preds = predict_thresh_diag(A, Sim, thresh)\n",
    "    test_preds(preds, A, train_matrix)    \n",
    "    \n",
    "    Sim = jac(A)\n",
    "    thresh = smart_thresh(A, Sim, k=4000, g=20)\n",
    "    print('\\njac, k=4000, g=20, self_jac only')\n",
    "    preds = predict_thresh_diag(A, Sim, thresh)\n",
    "    test_preds(preds, A, train_matrix)        \n",
    "    \n",
    "    "
   ]
  },
  {
   "cell_type": "code",
   "execution_count": null,
   "metadata": {
    "collapsed": true
   },
   "outputs": [],
   "source": [
    "# A\n",
    "# [(i,j) for j in range(A.shape[0]) for i in range(j) if A[i,j]==0]"
   ]
  },
  {
   "cell_type": "code",
   "execution_count": 24,
   "metadata": {
    "collapsed": false
   },
   "outputs": [
    {
     "name": "stdout",
     "output_type": "stream",
     "text": [
      "\n",
      "computing validation on 0.9\n"
     ]
    },
    {
     "name": "stderr",
     "output_type": "stream",
     "text": [
      "/home/noa_raindel/.TF_cpu_new/lib/python3.5/site-packages/ipykernel_launcher.py:5: RuntimeWarning: invalid value encountered in true_divide\n",
      "  \"\"\"\n",
      "/home/noa_raindel/.TF_cpu_new/lib/python3.5/site-packages/ipykernel_launcher.py:7: RuntimeWarning: invalid value encountered in true_divide\n",
      "  import sys\n"
     ]
    },
    {
     "name": "stdout",
     "output_type": "stream",
     "text": [
      "\n",
      "cos_sim, sof_diag, self_jac only\n",
      "Good: preds do not contain existing edges!\n",
      "average precision @ 1000:  0.9765813728536469\n",
      "average precision @ 2000:  0.9403091876759349\n",
      "min: 0.0, max: 1.0000001192092896\n",
      "\n",
      "threshold 0.8163266279259507 gives count of 8351\n",
      "\n",
      "cos_sim, k=8000, g=20, self_jac only\n",
      "Good: preds do not contain existing edges!\n",
      "average precision @ 1000:  0.9831446870791749\n",
      "average precision @ 2000:  0.9471940672318162\n",
      "min: 0.0, max: 1.0000001192092896\n",
      "\n",
      "threshold 0.8979592907185457 gives count of 1316\n",
      "\n",
      "cos_sim, k=1000, g=20, self_jac only\n",
      "Good: preds do not contain existing edges!\n",
      "average precision @ 1000:  0.9249510963258069\n",
      "average precision @ 2000:  0.7982800350838557\n",
      "min: 0.0, max: 1.0\n",
      "\n",
      "threshold 0.7894736842105263 gives count of 4350\n",
      "\n",
      "mean, k=4000, g=20, self_jac only\n",
      "Good: preds do not contain existing edges!\n",
      "average precision @ 1000:  0.9866855176750767\n",
      "average precision @ 2000:  0.9430929049590864\n",
      "min: 0.0, max: 1.0\n",
      "\n",
      "threshold 0.6842105263157894 gives count of 8359\n",
      "\n",
      "jac, k=4000, g=20, self_jac only\n",
      "Good: preds do not contain existing edges!\n",
      "average precision @ 1000:  0.9878830019410233\n",
      "average precision @ 2000:  0.9526625100263129\n"
     ]
    }
   ],
   "source": [
    "test_methods(.9)"
   ]
  },
  {
   "cell_type": "code",
   "execution_count": 85,
   "metadata": {
    "collapsed": false
   },
   "outputs": [
    {
     "name": "stdout",
     "output_type": "stream",
     "text": [
      "norms len: 1434\n"
     ]
    },
    {
     "data": {
      "text/plain": [
       "(array([5.64591e+05, 1.33525e+05, 8.88080e+04, 5.65930e+04, 3.74020e+04,\n",
       "        2.61320e+04, 2.13730e+04, 1.89420e+04, 1.50770e+04, 1.22420e+04,\n",
       "        1.01210e+04, 8.24700e+03, 6.90300e+03, 5.21600e+03, 3.96700e+03,\n",
       "        3.16000e+03, 2.57800e+03, 2.26200e+03, 1.63700e+03, 1.44900e+03,\n",
       "        1.09200e+03, 1.11000e+03, 7.99000e+02, 6.71000e+02, 7.47000e+02,\n",
       "        5.78000e+02, 4.65000e+02, 4.39000e+02, 3.62000e+02, 9.73000e+02]),\n",
       " array([0.        , 0.03333334, 0.06666667, 0.10000001, 0.13333335,\n",
       "        0.16666669, 0.20000002, 0.23333336, 0.2666667 , 0.30000004,\n",
       "        0.33333337, 0.36666671, 0.40000005, 0.43333338, 0.46666672,\n",
       "        0.50000006, 0.5333334 , 0.56666673, 0.60000007, 0.63333341,\n",
       "        0.66666675, 0.70000008, 0.73333342, 0.76666676, 0.8000001 ,\n",
       "        0.83333343, 0.86666677, 0.90000011, 0.93333344, 0.96666678,\n",
       "        1.00000012]),\n",
       " <a list of 30 Patch objects>)"
      ]
     },
     "execution_count": 85,
     "metadata": {},
     "output_type": "execute_result"
    },
    {
     "data": {
      "image/png": "[encoded data removed]",
      "text/plain": [
       "<matplotlib.figure.Figure at 0x2b093046f28>"
      ]
     },
     "metadata": {},
     "output_type": "display_data"
    }
   ],
   "source": [
    "J_full = cos_sim(train_matrix)\n",
    "J_vals = [J_full[i,j] for i in range(J_full.shape[0]) for j in range(i)]\n",
    "plt.figure()\n",
    "plt.hist(J_vals, 30)"
   ]
  },
  {
   "cell_type": "code",
   "execution_count": 25,
   "metadata": {
    "collapsed": false
   },
   "outputs": [
    {
     "name": "stdout",
     "output_type": "stream",
     "text": [
      "creating matrix\n",
      "m shape: (1434, 1434) m non zeros: 93200\n",
      "Good: preds do not contain existing edges!\n",
      "980861\n",
      "writing predictions to file:  sample_predictions_V5.csv\n"
     ]
    }
   ],
   "source": [
    "#Create final submission file\n",
    "train_matrix = DMBI_hackathon_ddi.read_sparse_matrix(pd.read_csv('train.csv'))\n",
    "x,y = train_matrix.nonzero()\n",
    "num_interactions_train = len(x); assert len(x)==len(y)\n",
    "# edge_list = list(zip(x,y))\n",
    "# link_prediction = link_prediction_predictor(DMBI_hackathon_ddi.number_of_drugs)\n",
    "# link_prediction.fit(edge_list)\n",
    "# preds = link_prediction.predict()\n",
    "\n",
    "A = train_matrix\n",
    "Sim = (cos_sim(A) + jac(A)) / 2\n",
    "preds = predict_soft_diag(A, Sim,)\n",
    "\n",
    "check_preds(preds, A)\n",
    "print(len(preds))\n",
    "\n",
    "DMBI_hackathon_ddi.write_solution_to_file(preds,'sample_predictions_V5.csv',num_interactions_train=num_interactions_train)"
   ]
  },
  {
   "cell_type": "code",
   "execution_count": null,
   "metadata": {
    "collapsed": true
   },
   "outputs": [],
   "source": []
  }
 ],
 "metadata": {
  "anaconda-cloud": {},
  "kernelspec": {
   "display_name": "Python [default]",
   "language": "python",
   "name": "python3"
  },
  "language_info": {
   "codemirror_mode": {
    "name": "ipython",
    "version": 3
   },
   "file_extension": ".py",
   "mimetype": "text/x-python",
   "name": "python",
   "nbconvert_exporter": "python",
   "pygments_lexer": "ipython3",
   "version": "3.5.4"
  }
 },
 "nbformat": 4,
 "nbformat_minor": 2
}
