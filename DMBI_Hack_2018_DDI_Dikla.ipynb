{
 "cells": [
  {
   "cell_type": "code",
   "execution_count": 15,
   "metadata": {},
   "outputs": [],
   "source": [
    "%matplotlib inline\n",
    "import matplotlib.pyplot as plt\n",
    "import networkx as nx\n",
    "import numpy as np\n",
    "import pandas as pd\n",
    "import os\n",
    "import random\n",
    "from scipy.sparse import csr_matrix\n",
    "from sklearn.metrics import roc_auc_score\n",
    "random.seed(4)"
   ]
  },
  {
   "cell_type": "code",
   "execution_count": 2,
   "metadata": {},
   "outputs": [],
   "source": [
    "class DMBI_hackathon_ddi_utils():\n",
    "    NODE_1 = 'node1'\n",
    "    NODE_2 = 'node2'\n",
    "    def __init__(self,number_of_drugs = 1434):\n",
    "        self.number_of_drugs =number_of_drugs\n",
    "\n",
    "    def write_list_to_file(self, list, path):\n",
    "        thefile = open(path, 'w')\n",
    "        for item in list:\n",
    "            thefile.write(\"%s\\n\" % item)\n",
    "        thefile.close()\n",
    "\n",
    "    def read_sparse_matrix(self,train_data):\n",
    "        print('creating matrix')\n",
    "        x = train_data[self.NODE_1]\n",
    "        y = train_data[self.NODE_2]\n",
    "        assert len(x) == len(y)\n",
    "        data = [1] * len(x)\n",
    "        m = csr_matrix((data,(x,y)), shape=(self.number_of_drugs, self.number_of_drugs),dtype='f')\n",
    "        print('m shape:', m.shape, 'm non zeros:', m.nnz)\n",
    "        assert np.allclose(m.todense(), m.T.todense(), atol=1e-8) #matrix is symmetric\n",
    "        return m.todense()#the matrix is small, sparse matrix is not necessary.\n",
    "    \n",
    "    def write_solution_to_file(self,preds,file_path, num_interactions_train):\n",
    "        #preds is assumed to be ordered by confidence level\n",
    "        #adds the header to the soution, combines the node IDs and writes the soךution to file\n",
    "        #asserts are important. Note them.\n",
    "        \n",
    "        print(f'writing predictions to file: {file_path}')\n",
    "        for u, v in preds:\n",
    "           assert u < v, 'graph is undirected, predict edges where the first node id is smaller than the second only'\n",
    "        assert len(preds) == (self.number_of_drugs * self.number_of_drugs - self.number_of_drugs - num_interactions_train) / 2, \"number of predictions is equal to number of non existing edges\"\n",
    "        output = [','.join([self.NODE_1 + '_' + self.NODE_2])]+[','.join([str(p[0]) +'_' + str(p[1])]) for p in preds]\n",
    "        self.write_list_to_file(output,file_path)\n",
    "\n",
    "    def create_holdout_set(self,m_train,train_percent = 0.9):\n",
    "        #create holdout set. the set will contains both existing and non-existing edges.\n",
    "        m_train_holdout = np.matrix(m_train)\n",
    "        validation_set = set()\n",
    "        for i in range(self.number_of_drugs):\n",
    "            for j in range(i+1,self.number_of_drugs):\n",
    "                if random.random()>train_percent:\n",
    "                    validation_set.add((i,j))\n",
    "                    m_train_holdout[i,j] = 0\n",
    "                    m_train_holdout[j, i] = 0\n",
    "        return m_train_holdout,validation_set\n",
    "\n",
    "    def average_precision_at_k(self,k, class_correct):\n",
    "        #return average precision at k.\n",
    "        #more examples: https://github.com/benhamner/Metrics/blob/master/Python/ml_metrics/average_precision.py\n",
    "        #and: https://www.kaggle.com/c/avito-prohibited-content#evaluation\n",
    "        #class_correct is a list with the binary correct label ordered by confidence level.\n",
    "        assert k <= len(class_correct) and k > 0        \n",
    "        score = 0.0\n",
    "        hits = 0.0\n",
    "        for i in range(k):\n",
    "            if class_correct[i]==1:\n",
    "                hits += 1.0\n",
    "            score += hits /(i+1.0)\n",
    "        score /= k\n",
    "        return score\n",
    "\n"
   ]
  },
  {
   "cell_type": "code",
   "execution_count": 3,
   "metadata": {},
   "outputs": [],
   "source": [
    "#simple prediction class\n",
    "class link_prediction_predictor:\n",
    "    def __init__(self,number_of_drugs):\n",
    "        self.G = nx.Graph()\n",
    "        self.G.add_nodes_from(range(number_of_drugs))\n",
    "\n",
    "    def fit(self,edge_list):\n",
    "        self.G.add_edges_from(edge_list)\n",
    "\n",
    "    def predict(self,prediction_set=None):\n",
    "        preds = nx.resource_allocation_index(self.G,ebunch=prediction_set)  \n",
    "        # if ebunch is None then all non-existent edges in the graph will be used.\n",
    "        preds = [(u1, v1) for (p, u1, v1) in sorted([(prediction, u, v) for (u, v, prediction) in preds],reverse=True)]  \n",
    "        #predictions are expected as described in write_solution_to_file. The values are suppose to be ordered by confidence.\n",
    "        return preds"
   ]
  },
  {
   "cell_type": "code",
   "execution_count": 4,
   "metadata": {},
   "outputs": [
    {
     "name": "stdout",
     "output_type": "stream",
     "text": [
      "creating matrix\n",
      "m shape: (1434, 1434) m non zeros: 93200\n"
     ]
    }
   ],
   "source": [
    "DMBI_hackathon_ddi = DMBI_hackathon_ddi_utils()\n",
    "train_matrix = DMBI_hackathon_ddi.read_sparse_matrix(pd.read_csv('train.csv'))\n"
   ]
  },
  {
   "cell_type": "code",
   "execution_count": null,
   "metadata": {},
   "outputs": [],
   "source": [
    "df_nodes.to_"
   ]
  },
  {
   "cell_type": "code",
   "execution_count": 9,
   "metadata": {
    "scrolled": true
   },
   "outputs": [
    {
     "data": {
      "text/html": [
       "<div>\n",
       "<style scoped>\n",
       "    .dataframe tbody tr th:only-of-type {\n",
       "        vertical-align: middle;\n",
       "    }\n",
       "\n",
       "    .dataframe tbody tr th {\n",
       "        vertical-align: top;\n",
       "    }\n",
       "\n",
       "    .dataframe thead th {\n",
       "        text-align: right;\n",
       "    }\n",
       "</style>\n",
       "<table border=\"1\" class=\"dataframe\">\n",
       "  <thead>\n",
       "    <tr style=\"text-align: right;\">\n",
       "      <th></th>\n",
       "      <th>node1</th>\n",
       "      <th>node2</th>\n",
       "    </tr>\n",
       "  </thead>\n",
       "  <tbody>\n",
       "    <tr>\n",
       "      <th>0</th>\n",
       "      <td>0</td>\n",
       "      <td>17</td>\n",
       "    </tr>\n",
       "    <tr>\n",
       "      <th>1</th>\n",
       "      <td>0</td>\n",
       "      <td>39</td>\n",
       "    </tr>\n",
       "    <tr>\n",
       "      <th>2</th>\n",
       "      <td>0</td>\n",
       "      <td>43</td>\n",
       "    </tr>\n",
       "    <tr>\n",
       "      <th>3</th>\n",
       "      <td>0</td>\n",
       "      <td>63</td>\n",
       "    </tr>\n",
       "    <tr>\n",
       "      <th>4</th>\n",
       "      <td>0</td>\n",
       "      <td>218</td>\n",
       "    </tr>\n",
       "  </tbody>\n",
       "</table>\n",
       "</div>"
      ],
      "text/plain": [
       "   node1  node2\n",
       "0      0     17\n",
       "1      0     39\n",
       "2      0     43\n",
       "3      0     63\n",
       "4      0    218"
      ]
     },
     "execution_count": 9,
     "metadata": {},
     "output_type": "execute_result"
    }
   ],
   "source": [
    "#simple prediction class\n",
    "class link_prediction_stats:\n",
    "    def __init__(self,number_of_drugs):\n",
    "        self.G = nx.Graph()\n",
    "        self.G.add_nodes_from(range(number_of_drugs))\n",
    "\n",
    "    def fit(self,edge_list):\n",
    "        self.G.add_edges_from(edge_list)\n",
    "\n",
    "    def predict(self,prediction_set=None):\n",
    "        preds = nx.resource_allocation_index(self.G,ebunch=prediction_set)  \n",
    "        # if ebunch is None then all non-existent edges in the graph will be used.\n",
    "        preds = [(u1, v1) for (p, u1, v1) in sorted([(prediction, u, v) for (u, v, prediction) in preds],reverse=True)]  \n",
    "        #predictions are expected as described in write_solution_to_file. The values are suppose to be ordered by confidence.\n",
    "        return preds"
   ]
  },
  {
   "cell_type": "code",
   "execution_count": 13,
   "metadata": {},
   "outputs": [],
   "source": [
    "#Evaluate model. \n",
    "#Note that holdout is based on random decision. \n",
    "m_train_holdout,validation_set = DMBI_hackathon_ddi.create_holdout_set(train_matrix)\n",
    "x,y = m_train_holdout.nonzero() #x and y indeices of nonzero cells (existing edges)\n",
    "edge_list = list(zip(x,y)) \n",
    "link_prediction = link_prediction_predictor(DMBI_hackathon_ddi.number_of_drugs)\n",
    "link_prediction.fit(edge_list)"
   ]
  },
  {
   "cell_type": "code",
   "execution_count": 91,
   "metadata": {
    "scrolled": true
   },
   "outputs": [
    {
     "data": {
      "text/plain": [
       "<matplotlib.figure.Figure at 0x2223506af98>"
      ]
     },
     "metadata": {},
     "output_type": "display_data"
    },
    {
     "data": {
      "image/png": "[encoded data removed]",
      "text/plain": [
       "<matplotlib.figure.Figure at 0x2223506acc0>"
      ]
     },
     "metadata": {},
     "output_type": "display_data"
    }
   ],
   "source": [
    "import collections\n",
    "G = link_prediction.G\n",
    "degree_sequence = sorted([d for n, d in G.degree()], reverse=True)  # degree sequence\n",
    "# print \"Degree sequence\", degree_sequence\n",
    "degreeCount = collections.Counter(degree_sequence)\n",
    "deg, cnt = zip(*degreeCount.items())\n",
    "\n",
    "plt.figure(figsize=(20,18))\n",
    "fig, ax = plt.subplots()\n",
    "plt.bar(deg, cnt, width=0.80, color='b')\n",
    "\n",
    "plt.title(\"Degree Histogram\")\n",
    "plt.ylabel(\"Count\")\n",
    "plt.xlabel(\"Degree\")\n",
    "ax.set_xticks([d + 0.4 for d in deg])\n",
    "ax.set_xticklabels(deg)\n",
    "\n",
    "# draw graph in inset\n",
    "plt.axes([0.4, 0.4, 0.5, 0.5])\n",
    "Gcc = sorted(nx.connected_component_subgraphs(G), key=len, reverse=True)[0]\n",
    "pos = nx.spring_layout(G)\n",
    "plt.axis('off')\n",
    "nx.draw_networkx_nodes(G, pos, node_size=20)\n",
    "nx.draw_networkx_edges(G, pos, alpha=0.4)\n",
    "\n",
    "plt.show()"
   ]
  },
  {
   "cell_type": "code",
   "execution_count": null,
   "metadata": {},
   "outputs": [],
   "source": [
    "def hist_generator(name,seq):\n",
    "    degree_sequence = sorted([d for n, d in G.degree()], reverse=True)  # degree sequence\n",
    "    # print \"Degree sequence\", degree_sequence\n",
    "    count = collections.Counter(seq)\n",
    "    deg, cnt = zip(*count.items())\n",
    "    \n",
    "    plt.figure(figsize=(10,9))\n",
    "    fig, ax = plt.subplots()\n",
    "    plt.bar(deg, cnt, width=0.80, color='b')\n",
    "\n",
    "    plt.title(name + \" Histogram\")\n",
    "    plt.ylabel(\"Count\")\n",
    "    plt.xlabel(name)\n",
    "    ax.set_xticks([d + 0.4 for d in deg])\n",
    "    ax.set_xticklabels(deg)"
   ]
  },
  {
   "cell_type": "markdown",
   "metadata": {},
   "source": [
    "# node based features"
   ]
  },
  {
   "cell_type": "code",
   "execution_count": 32,
   "metadata": {},
   "outputs": [],
   "source": [
    "from networkx.algorithms import centrality, link_analysis\n",
    "\n",
    "df_nodes = pd.DataFrame(index=G.nodes())\n",
    "df_nodes['clustering'] = pd.Series(nx.clustering(G))\n",
    "df_nodes['degree'] = pd.Series(dict(G.degree()))\n",
    "df_nodes['degree_centrality'] =  pd.Series(centrality.degree_centrality(G))\n",
    "df_nodes['closeness_centrality'] =  pd.Series(centrality.closeness_centrality(G))\n",
    "df_nodes['betweenness_centrality'] =  pd.Series(centrality.betweenness_centrality(G))\n",
    "df_nodes['pagerank'] = pd.Series(link_analysis.pagerank(G))\n"
   ]
  },
  {
   "cell_type": "code",
   "execution_count": 57,
   "metadata": {},
   "outputs": [],
   "source": [
    "df_nodes.to_csv('nodes.csv')"
   ]
  },
  {
   "cell_type": "code",
   "execution_count": 31,
   "metadata": {},
   "outputs": [
    {
     "data": {
      "text/plain": [
       "0    0.000340\n",
       "1    0.000573\n",
       "2    0.002014\n",
       "3    0.000406\n",
       "4    0.000793\n",
       "dtype: float64"
      ]
     },
     "execution_count": 31,
     "metadata": {},
     "output_type": "execute_result"
    }
   ],
   "source": [
    "page_rank = pd.Series(link_analysis.pagerank(G))\n",
    "page_rank.head()"
   ]
  },
  {
   "cell_type": "markdown",
   "metadata": {},
   "source": [
    "# Edge based features\n"
   ]
  },
  {
   "cell_type": "code",
   "execution_count": 45,
   "metadata": {},
   "outputs": [],
   "source": [
    "pairs = nx.to_pandas_edgelist(G)\n",
    "pairs.columns = ['node1','node2']\n",
    "pairs['is_edge'] = 1\n",
    "un_pairs = nx.to_pandas_edgelist(nx.Graph(nx.non_edges(G)))\n",
    "un_pairs.columns = ['node1','node2']\n",
    "un_pairs['is_edge'] = 0\n",
    "total_edges = pd.concat([pairs,un_pairs],axis=0)"
   ]
  },
  {
   "cell_type": "code",
   "execution_count": 48,
   "metadata": {},
   "outputs": [],
   "source": [
    "total_edges = total_edges.sort_values(by=['node1','node2'])"
   ]
  },
  {
   "cell_type": "code",
   "execution_count": 55,
   "metadata": {},
   "outputs": [],
   "source": [
    "total_edges['jaccard_coefficient'] = pd.DataFrame(nx.jaccard_coefficient(G))[2]\n",
    "total_edges['adamic_adar_index'] = pd.DataFrame(nx.adamic_adar_index(G))[2]\n",
    "total_edges['resource_allocation_index'] = pd.DataFrame(nx.resource_allocation_index(G))[2]\n",
    "total_edges['preferential_attachment'] = pd.DataFrame(nx.preferential_attachment(G))[2]"
   ]
  },
  {
   "cell_type": "code",
   "execution_count": 64,
   "metadata": {
    "scrolled": true
   },
   "outputs": [],
   "source": [
    "sh = dict(nx.all_pairs_shortest_path_length(G))"
   ]
  },
  {
   "cell_type": "code",
   "execution_count": 86,
   "metadata": {},
   "outputs": [
    {
     "data": {
      "text/plain": [
       "3"
      ]
     },
     "execution_count": 86,
     "metadata": {},
     "output_type": "execute_result"
    }
   ],
   "source": [
    "sh[0][1]"
   ]
  },
  {
   "cell_type": "code",
   "execution_count": 87,
   "metadata": {},
   "outputs": [],
   "source": [
    "total_edges['shortest_path_length'] = [-1 if not (int(row['node1']) in sh.keys() and int(row['node2']) in sh[int(row['node1'])].keys()) else sh[int(row['node1'])][int(row['node2'])] for i,row in total_edges.iterrows()]"
   ]
  },
  {
   "cell_type": "code",
   "execution_count": 89,
   "metadata": {},
   "outputs": [],
   "source": [
    "total_edges.to_csv('edges.csv')"
   ]
  },
  {
   "cell_type": "code",
   "execution_count": 92,
   "metadata": {},
   "outputs": [
    {
     "data": {
      "text/html": [
       "<div>\n",
       "<style scoped>\n",
       "    .dataframe tbody tr th:only-of-type {\n",
       "        vertical-align: middle;\n",
       "    }\n",
       "\n",
       "    .dataframe tbody tr th {\n",
       "        vertical-align: top;\n",
       "    }\n",
       "\n",
       "    .dataframe thead th {\n",
       "        text-align: right;\n",
       "    }\n",
       "</style>\n",
       "<table border=\"1\" class=\"dataframe\">\n",
       "  <thead>\n",
       "    <tr style=\"text-align: right;\">\n",
       "      <th></th>\n",
       "      <th>node1</th>\n",
       "      <th>node2</th>\n",
       "      <th>is_edge</th>\n",
       "      <th>jaccard_coefficient</th>\n",
       "      <th>adamic_adar_index</th>\n",
       "      <th>resource_allocation_index</th>\n",
       "      <th>preferential_attachment</th>\n",
       "      <th>shortest_path_length</th>\n",
       "    </tr>\n",
       "  </thead>\n",
       "  <tbody>\n",
       "    <tr>\n",
       "      <th>0</th>\n",
       "      <td>0</td>\n",
       "      <td>1</td>\n",
       "      <td>0</td>\n",
       "      <td>0.0</td>\n",
       "      <td>0.0</td>\n",
       "      <td>0.0</td>\n",
       "      <td>736</td>\n",
       "      <td>3</td>\n",
       "    </tr>\n",
       "    <tr>\n",
       "      <th>1</th>\n",
       "      <td>0</td>\n",
       "      <td>2</td>\n",
       "      <td>0</td>\n",
       "      <td>0.0</td>\n",
       "      <td>0.0</td>\n",
       "      <td>0.0</td>\n",
       "      <td>2976</td>\n",
       "      <td>3</td>\n",
       "    </tr>\n",
       "    <tr>\n",
       "      <th>2</th>\n",
       "      <td>0</td>\n",
       "      <td>3</td>\n",
       "      <td>0</td>\n",
       "      <td>0.0</td>\n",
       "      <td>0.0</td>\n",
       "      <td>0.0</td>\n",
       "      <td>176</td>\n",
       "      <td>3</td>\n",
       "    </tr>\n",
       "    <tr>\n",
       "      <th>3</th>\n",
       "      <td>0</td>\n",
       "      <td>4</td>\n",
       "      <td>0</td>\n",
       "      <td>0.0</td>\n",
       "      <td>0.0</td>\n",
       "      <td>0.0</td>\n",
       "      <td>1120</td>\n",
       "      <td>3</td>\n",
       "    </tr>\n",
       "    <tr>\n",
       "      <th>4</th>\n",
       "      <td>0</td>\n",
       "      <td>5</td>\n",
       "      <td>0</td>\n",
       "      <td>0.0</td>\n",
       "      <td>0.0</td>\n",
       "      <td>0.0</td>\n",
       "      <td>48</td>\n",
       "      <td>3</td>\n",
       "    </tr>\n",
       "  </tbody>\n",
       "</table>\n",
       "</div>"
      ],
      "text/plain": [
       "   node1  node2  is_edge  jaccard_coefficient  adamic_adar_index  \\\n",
       "0      0      1        0                  0.0                0.0   \n",
       "1      0      2        0                  0.0                0.0   \n",
       "2      0      3        0                  0.0                0.0   \n",
       "3      0      4        0                  0.0                0.0   \n",
       "4      0      5        0                  0.0                0.0   \n",
       "\n",
       "   resource_allocation_index  preferential_attachment  shortest_path_length  \n",
       "0                        0.0                      736                     3  \n",
       "1                        0.0                     2976                     3  \n",
       "2                        0.0                      176                     3  \n",
       "3                        0.0                     1120                     3  \n",
       "4                        0.0                       48                     3  "
      ]
     },
     "execution_count": 92,
     "metadata": {},
     "output_type": "execute_result"
    }
   ],
   "source": [
    "total_edges.head()\n"
   ]
  },
  {
   "cell_type": "code",
   "execution_count": 5,
   "metadata": {},
   "outputs": [
    {
     "name": "stdout",
     "output_type": "stream",
     "text": [
      "average precision @ 100: 0.4512662265189656\n"
     ]
    }
   ],
   "source": [
    "#Test set contains new interactions that random selection does not emulate.\n",
    "preds = link_prediction.predict(validation_set)\n",
    "class_correct = [train_matrix[x[0],x[1]] for x in preds]\n",
    "average_precision = DMBI_hackathon_ddi.average_precision_at_k(k=100,class_correct=class_correct)\n",
    "print(f'average precision @ 100: {average_precision}')"
   ]
  },
  {
   "cell_type": "code",
   "execution_count": 6,
   "metadata": {},
   "outputs": [
    {
     "name": "stdout",
     "output_type": "stream",
     "text": [
      "writing predictions to file: sample_predictions.csv\n"
     ]
    }
   ],
   "source": [
    "#Create final submission file\n",
    "x,y = train_matrix.nonzero()\n",
    "num_interactions_train = len(x);assert len(x)==len(y)\n",
    "edge_list = list(zip(x,y))\n",
    "link_prediction = link_prediction_predictor(DMBI_hackathon_ddi.number_of_drugs)\n",
    "link_prediction.fit(edge_list)\n",
    "preds = link_prediction.predict()\n",
    "DMBI_hackathon_ddi.write_solution_to_file(preds,'sample_predictions.csv',num_interactions_train=num_interactions_train)"
   ]
  },
  {
   "cell_type": "code",
   "execution_count": null,
   "metadata": {
    "collapsed": true
   },
   "outputs": [],
   "source": []
  }
 ],
 "metadata": {
  "kernelspec": {
   "display_name": "Python 3",
   "language": "python",
   "name": "python3"
  },
  "language_info": {
   "codemirror_mode": {
    "name": "ipython",
    "version": 3
   },
   "file_extension": ".py",
   "mimetype": "text/x-python",
   "name": "python",
   "nbconvert_exporter": "python",
   "pygments_lexer": "ipython3",
   "version": "3.6.4"
  }
 },
 "nbformat": 4,
 "nbformat_minor": 2
}
