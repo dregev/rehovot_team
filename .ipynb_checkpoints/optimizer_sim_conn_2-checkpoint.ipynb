{
 "cells": [
  {
   "cell_type": "code",
   "execution_count": 101,
   "metadata": {
    "collapsed": false
   },
   "outputs": [],
   "source": [
    "import networkx as nx\n",
    "import numpy as np\n",
    "import pandas as pd\n",
    "import os\n",
    "import random\n",
    "from scipy.sparse import csr_matrix\n",
    "from sklearn.metrics import roc_auc_score\n",
    "random.seed(4)\n",
    "import matplotlib.pyplot as plt\n",
    "%matplotlib inline\n",
    "# %load_ext autoreload\n",
    "# %autoreload 2\n",
    "import numpy.linalg as lin"
   ]
  },
  {
   "cell_type": "code",
   "execution_count": 2,
   "metadata": {
    "collapsed": false
   },
   "outputs": [],
   "source": [
    "class DMBI_hackathon_ddi_utils():\n",
    "    NODE_1 = 'node1'\n",
    "    NODE_2 = 'node2'\n",
    "    def __init__(self,number_of_drugs = 1434):\n",
    "        self.number_of_drugs = number_of_drugs\n",
    "\n",
    "    def write_list_to_file(self, list, path):\n",
    "        thefile = open(path, 'w')\n",
    "        for item in list:\n",
    "            thefile.write(\"%s\\n\" % item)\n",
    "        thefile.close()\n",
    "\n",
    "    def read_sparse_matrix(self,train_data):\n",
    "        print('creating matrix')\n",
    "        x = train_data[self.NODE_1]\n",
    "        y = train_data[self.NODE_2]\n",
    "        assert len(x) == len(y)\n",
    "        data = [1] * len(x)\n",
    "        m = csr_matrix((data,(x,y)), shape=(self.number_of_drugs, self.number_of_drugs),dtype='f')\n",
    "        print('m shape:', m.shape, 'm non zeros:', m.nnz)\n",
    "        assert np.allclose(m.todense(), m.T.todense(), atol=1e-8) #matrix is symmetric\n",
    "        return m.todense()#the matrix is small, sparse matrix is not necessary.\n",
    "    \n",
    "    def write_solution_to_file(self,preds,file_path, num_interactions_train):\n",
    "        #preds is assumed to be ordered by confidence level\n",
    "        #adds the header to the soution, combines the node IDs and writes the soךution to file\n",
    "        #asserts are important. Note them.\n",
    "        \n",
    "        print('writing predictions to file: ',file_path)\n",
    "        for u, v in preds:\n",
    "           assert u < v, 'graph is undirected, predict edges where the first node id is smaller than the second only'\n",
    "        assert len(preds) == (self.number_of_drugs * self.number_of_drugs - self.number_of_drugs - num_interactions_train) / 2, \"number of predictions is equal to number of non existing edges\"\n",
    "        output = [','.join([self.NODE_1 + '_' + self.NODE_2])]+[','.join([str(p[0]) +'_' + str(p[1])]) for p in preds]\n",
    "        self.write_list_to_file(output,file_path)\n",
    "\n",
    "    def create_holdout_set(self, m_train, train_percent = 0.9):\n",
    "        # create holdout set. the set will contain both existing and non-existing edges\n",
    "        m_train_holdout = np.matrix(m_train)\n",
    "        validation_set = set()\n",
    "        for i in range(self.number_of_drugs):\n",
    "            for j in range(i+1, self.number_of_drugs):\n",
    "                if random.random() > train_percent:\n",
    "                    validation_set.add((i, j))\n",
    "                    m_train_holdout[i, j] = 0\n",
    "                    m_train_holdout[j, i] = 0\n",
    "        return m_train_holdout, validation_set\n",
    "\n",
    "    def average_precision_at_k(self, k, class_correct):\n",
    "        #return average precision at k\n",
    "        #more examples: https://github.com/benhamner/Metrics/blob/master/Python/ml_metrics/average_precision.py\n",
    "        #and: https://www.kaggle.com/c/avito-prohibited-content#evaluation\n",
    "        #class_correct is a list with the binary correct label ordered by confidence level.\n",
    "        assert k <= len(class_correct) and k > 0        \n",
    "        score = 0.0\n",
    "        hits = 0.0\n",
    "        for i in range(k):\n",
    "            if class_correct[i] == 1:\n",
    "                hits += 1.0\n",
    "            score += hits / (i+1.0)\n",
    "        score /= k\n",
    "        return score\n",
    "\n"
   ]
  },
  {
   "cell_type": "code",
   "execution_count": 3,
   "metadata": {
    "collapsed": true
   },
   "outputs": [],
   "source": [
    "#simple prediction class\n",
    "class link_prediction_predictor:\n",
    "    def __init__(self, number_of_drugs):\n",
    "        self.G = nx.Graph()\n",
    "        self.G.add_nodes_from(range(number_of_drugs))\n",
    "\n",
    "    def fit(self, edge_list):\n",
    "        self.G.add_edges_from(edge_list)\n",
    "\n",
    "    def predict(self,prediction_set=None):\n",
    "        preds = nx.resource_allocation_index(self.G, ebunch=prediction_set)  \n",
    "        # if ebunch is None then all non-existent edges in the graph will be used.\n",
    "        preds = [(u1, v1) for (p, u1, v1) in sorted([(prediction, u, v) for (u, v, prediction) in preds],reverse=True)]  \n",
    "        #predictions are expected as described in write_solution_to_file. The values are suppose to be ordered by confidence.\n",
    "        return preds"
   ]
  },
  {
   "cell_type": "code",
   "execution_count": 4,
   "metadata": {
    "collapsed": true
   },
   "outputs": [],
   "source": [
    "def jac(A):\n",
    "    # compute Jackard coefficients    \n",
    "    cuts = A*A\n",
    "    d = A.sum(1)\n",
    "    joins = np.tile(d, [1,A.shape[0]])\n",
    "    joins = joins + joins.T - cuts   \n",
    "    J = cuts/joins\n",
    "    np.nan_to_num(J, copy=False)   \n",
    "    np.fill_diagonal(J, 1) \n",
    "    \n",
    "    return J"
   ]
  },
  {
   "cell_type": "code",
   "execution_count": 52,
   "metadata": {
    "collapsed": true
   },
   "outputs": [],
   "source": [
    "def cuts(A):\n",
    "    # compute Jackard coefficients    \n",
    "    cuts = A*A\n",
    "    sums = np.sqrt(np.sum(cuts, 0))\n",
    "    cuts /= sums\n",
    "    cuts = cuts.T\n",
    "    cuts /= sums\n",
    "    np.fill_diagonal(cuts, 1) \n",
    "    \n",
    "    return cuts"
   ]
  },
  {
   "cell_type": "code",
   "execution_count": 6,
   "metadata": {
    "collapsed": true
   },
   "outputs": [],
   "source": [
    "def cos_sim(A):\n",
    "    # cosine similarity\n",
    "    prods = A*A\n",
    "    norms = np.sqrt(np.sum(np.multiply(A,A), 1))\n",
    "    prods /= norms\n",
    "    prods = prods.T\n",
    "    prods /= norms\n",
    "    np.nan_to_num(prods, copy=False)   \n",
    "    return prods"
   ]
  },
  {
   "cell_type": "code",
   "execution_count": 7,
   "metadata": {
    "collapsed": false
   },
   "outputs": [],
   "source": [
    "def smart_thresh(A, Sim, k, g=10):\n",
    "    n = A.shape[0]\n",
    "    print('min: {}, max: {}'.format(np.min(Sim), np.max(Sim)))\n",
    "    T = sorted(np.linspace(np.min(Sim), np.max(Sim), g), reverse=True)\n",
    "    for i_T in range(len(T)):\n",
    "        th = T[i_T]\n",
    "        Sim_th = (Sim>th).astype(int)\n",
    "        Score = Sim_th*A*Sim_th\n",
    "        np.fill_diagonal(Score, 0)\n",
    "        pos_scores = [Score[i,j] for j in range(n) for i in range(j) if (A[i,j]==0 and Score[i,j]>0)]\n",
    "        count_pos_scores = len(pos_scores)\n",
    "        #print('th = {}, count = {}'.format(th, count_pos_scores))\n",
    "        if count_pos_scores > k:\n",
    "            print('\\nthreshold {} gives count of {}'.format(th, count_pos_scores))\n",
    "            return th\n",
    "    print('\\nthreshold: {} gives count of {}'.format(th, count_pos_scores))\n",
    "    return th"
   ]
  },
  {
   "cell_type": "code",
   "execution_count": 8,
   "metadata": {
    "collapsed": true
   },
   "outputs": [],
   "source": [
    "def predict_thresh(A, Sim, thresh, self_sim=1):\n",
    "    \n",
    "    n = A.shape[0]\n",
    "    Sim = (Sim>thresh).astype(int)\n",
    "    np.fill_diagonal(Sim, self_sim) \n",
    "    \n",
    "    Score = Sim*A*Sim\n",
    "    np.fill_diagonal(Score, 0)    \n",
    "\n",
    "    scores = [(i , j, Score[i,j]) for j in range(n) for i in range(j) if A[i,j]==0]\n",
    "    preds = [(u1, v1) for (s, u1, v1) in sorted([(s, u, v) for (u, v, s) in scores], reverse=True)]  \n",
    "\n",
    "    return preds"
   ]
  },
  {
   "cell_type": "code",
   "execution_count": 9,
   "metadata": {
    "collapsed": true
   },
   "outputs": [],
   "source": [
    "def predict_thresh_diag(A, Sim, thresh, self_sim=1):\n",
    "    \n",
    "    n = A.shape[0]\n",
    "    Sim = (Sim>thresh).astype(int)\n",
    "    np.fill_diagonal(Sim, self_sim) \n",
    "    \n",
    "    Score = Sim*A + A*Sim\n",
    "    np.fill_diagonal(Score, 0)    \n",
    "\n",
    "    scores = [(i , j, Score[i,j]) for j in range(n) for i in range(j) if A[i,j]==0]\n",
    "    preds = [(u1, v1) for (s, u1, v1) in sorted([(s, u, v) for (u, v, s) in scores], reverse=True)]  \n",
    "\n",
    "    return preds"
   ]
  },
  {
   "cell_type": "code",
   "execution_count": 10,
   "metadata": {
    "collapsed": true
   },
   "outputs": [],
   "source": [
    "def predict_soft_diag(A, Sim, self_sim=1):\n",
    "    \n",
    "    n = A.shape[0]\n",
    "    np.fill_diagonal(Sim, self_sim) \n",
    "    \n",
    "    thresh = .5\n",
    "    Sim_old = Sim.copy()\n",
    "    Sim = (Sim - thresh) / (1-thresh)\n",
    "    Sim[Sim_old<thresh] = 0\n",
    "    np.fill_diagonal(Sim, self_sim) \n",
    "    \n",
    "    Score = Sim*A + A*Sim\n",
    "    np.fill_diagonal(Score, 0)    \n",
    "\n",
    "    scores = [(i , j, Score[i,j]) for j in range(n) for i in range(j) if A[i,j]==0]\n",
    "    preds = [(u1, v1) for (s, u1, v1) in sorted([(s, u, v) for (u, v, s) in scores], reverse=True)]  \n",
    "\n",
    "    return preds"
   ]
  },
  {
   "cell_type": "code",
   "execution_count": 11,
   "metadata": {
    "collapsed": true
   },
   "outputs": [],
   "source": [
    "def predict_diag(A, Sim):\n",
    "    \n",
    "    n = A.shape[0]\n",
    "    \n",
    "    Score = Sim*A + A*Sim\n",
    "    np.fill_diagonal(Score, 0)    \n",
    "\n",
    "    scores = [(i , j, Score[i,j]) for j in range(n) for i in range(j) if A[i,j]==0]\n",
    "    preds = [(u1, v1) for (s, u1, v1) in sorted([(s, u, v) for (u, v, s) in scores], reverse=True)]  \n",
    "\n",
    "    return preds"
   ]
  },
  {
   "cell_type": "code",
   "execution_count": 96,
   "metadata": {
    "collapsed": true
   },
   "outputs": [],
   "source": [
    "def predict_V6(A, Sim, thresh=.5, self_sim=1):\n",
    "    \n",
    "    n = A.shape[0]\n",
    "    np.fill_diagonal(Sim, self_sim) \n",
    "    \n",
    "    Sim_old = Sim.copy()\n",
    "    Sim = (Sim - thresh) / (1-thresh)\n",
    "    Sim = np.multiply(Sim, Sim)\n",
    "    Sim[Sim_old<thresh] = 0\n",
    "    np.fill_diagonal(Sim, self_sim) \n",
    "    \n",
    "    Score = Sim*A + A*Sim\n",
    "    np.fill_diagonal(Score, 0)    \n",
    "\n",
    "    scores = [(i , j, Score[i,j]) for j in range(n) for i in range(j) if A[i,j]==0]\n",
    "    preds = [(u1, v1) for (s, u1, v1) in sorted([(s, u, v) for (u, v, s) in scores], reverse=True)]  \n",
    "\n",
    "    return preds"
   ]
  },
  {
   "cell_type": "code",
   "execution_count": 97,
   "metadata": {
    "collapsed": true
   },
   "outputs": [],
   "source": [
    "def predict_test1(A, Sim, thresh=.5, self_sim=1):\n",
    "    \n",
    "    n = A.shape[0]\n",
    "    np.fill_diagonal(Sim, self_sim) \n",
    "    \n",
    "    Sim_old = Sim.copy()\n",
    "    Sim = (Sim - thresh) / (1-thresh)\n",
    "    Sim = np.multiply(Sim, Sim)\n",
    "    Sim[Sim_old<thresh] = 0\n",
    "    np.fill_diagonal(Sim, self_sim) \n",
    "    \n",
    "    Score = Sim*A + A*Sim\n",
    "    np.fill_diagonal(Score, 0)    \n",
    "\n",
    "    scores = [(i , j, Score[i,j]) for j in range(n) for i in range(j) if A[i,j]==0]\n",
    "    preds = [(u1, v1) for (s, u1, v1) in sorted([(s, u, v) for (u, v, s) in scores], reverse=True)]  \n",
    "\n",
    "    return preds"
   ]
  },
  {
   "cell_type": "code",
   "execution_count": 76,
   "metadata": {
    "collapsed": true
   },
   "outputs": [],
   "source": [
    "def predict_test2(A, Sim, thresh=.5, self_sim=1):\n",
    "    \n",
    "    n = A.shape[0]\n",
    "    np.fill_diagonal(Sim, self_sim) \n",
    "    \n",
    "    Sim_old = Sim.copy()\n",
    "    Sim = (Sim - thresh) / (1-thresh)\n",
    "    Sim[Sim_old<thresh] = 0\n",
    "    np.fill_diagonal(Sim, self_sim) \n",
    "    \n",
    "    Score = Sim*A + A*Sim\n",
    "    np.fill_diagonal(Score, 0)    \n",
    "\n",
    "    scores = [(i , j, Score[i,j]) for j in range(n) for i in range(j) if A[i,j]==0]\n",
    "    preds = [(u1, v1) for (s, u1, v1) in sorted([(s, u, v) for (u, v, s) in scores], reverse=True)]  \n",
    "\n",
    "    return preds"
   ]
  },
  {
   "cell_type": "code",
   "execution_count": 169,
   "metadata": {
    "collapsed": true
   },
   "outputs": [],
   "source": [
    "def predict_svd(A, rank=120):\n",
    "    \n",
    "    n = A.shape[0]\n",
    "    \n",
    "    Score = A\n",
    "    for i in range(20):\n",
    "        U, s, V = lin.svd(Score, full_matrices=False)\n",
    "        th = s[200]\n",
    "        s[s<th] = 0\n",
    "        S = np.zeros([n,n])\n",
    "        np.fill_diagonal(S, s)\n",
    "        Score = U*S*V\n",
    "        bin_th = .5\n",
    "        Score[Score>=bin_th] = 1\n",
    "        Score[Score<bin_th] = 0\n",
    "\n",
    "    U, s, V = lin.svd(Score, full_matrices=False)\n",
    "    th = s[rank]\n",
    "    s[s<th] = 0\n",
    "    S = np.zeros([n,n])\n",
    "    np.fill_diagonal(S, s)\n",
    "    Score = U*S*V\n",
    "\n",
    "    np.fill_diagonal(Score, 0)    \n",
    "\n",
    "    scores = [(i , j, Score[i,j]) for j in range(n) for i in range(j) if A[i,j]==0]\n",
    "    preds = [(u1, v1) for (s, u1, v1) in sorted([(s, u, v) for (u, v, s) in scores], reverse=True)]      \n",
    "    \n",
    "    return(preds)"
   ]
  },
  {
   "cell_type": "code",
   "execution_count": null,
   "metadata": {
    "collapsed": true
   },
   "outputs": [],
   "source": [
    "def predict_V8(A):\n",
    "    \n",
    "    n = A.shape[0]\n",
    "    \n",
    "    Score = A\n",
    "    for i in range(20):\n",
    "        U, s, V = lin.svd(Score, full_matrices=False)\n",
    "        th = s[200]\n",
    "        s[s<th] = 0\n",
    "        S = np.zeros([n,n])\n",
    "        np.fill_diagonal(S, s)\n",
    "        Score = U*S*V\n",
    "        bin_th = .5\n",
    "        Score[Score>=bin_th] = 1\n",
    "        Score[Score<bin_th] = 0\n",
    "\n",
    "    U, s, V = lin.svd(Score, full_matrices=False)\n",
    "    th = s[120]\n",
    "    s[s<th] = 0\n",
    "    S = np.zeros([n,n])\n",
    "    np.fill_diagonal(S, s)\n",
    "    Score = U*S*V\n",
    "\n",
    "    np.fill_diagonal(Score, 0)    \n",
    "\n",
    "    scores = [(i , j, Score[i,j]) for j in range(n) for i in range(j) if A[i,j]==0]\n",
    "    preds = [(u1, v1) for (s, u1, v1) in sorted([(s, u, v) for (u, v, s) in scores], reverse=True)]      \n",
    "    \n",
    "    return(preds)"
   ]
  },
  {
   "cell_type": "code",
   "execution_count": 152,
   "metadata": {
    "collapsed": true
   },
   "outputs": [],
   "source": [
    "def predict_V7(A, rank=100):\n",
    "    \n",
    "    n = A.shape[0]\n",
    "    U, s, V = lin.svd(A, full_matrices=False)\n",
    "    th = s[rank]\n",
    "    s[s<th] = 0\n",
    "    S = np.zeros([n,n])\n",
    "    np.fill_diagonal(S, s)\n",
    "    Score = U*S*V\n",
    "\n",
    "    np.fill_diagonal(Score, 0)    \n",
    "\n",
    "    scores = [(i , j, Score[i,j]) for j in range(n) for i in range(j) if A[i,j]==0]\n",
    "    preds = [(u1, v1) for (s, u1, v1) in sorted([(s, u, v) for (u, v, s) in scores], reverse=True)]      \n",
    "    \n",
    "    return(preds)"
   ]
  },
  {
   "cell_type": "code",
   "execution_count": 149,
   "metadata": {
    "collapsed": false
   },
   "outputs": [
    {
     "data": {
      "text/plain": [
       "[<matplotlib.lines.Line2D at 0x19f17e2c470>]"
      ]
     },
     "execution_count": 149,
     "metadata": {},
     "output_type": "execute_result"
    },
    {
     "data": {
      "image/png": "[encoded data removed]",
      "text/plain": [
       "<matplotlib.figure.Figure at 0x19f189f2438>"
      ]
     },
     "metadata": {},
     "output_type": "display_data"
    }
   ],
   "source": [
    "U, s, V = lin.svd(A, full_matrices=False)\n",
    "plt.figure()\n",
    "plt.plot(s)"
   ]
  },
  {
   "cell_type": "code",
   "execution_count": 147,
   "metadata": {
    "collapsed": false
   },
   "outputs": [
    {
     "data": {
      "text/plain": [
       "[<matplotlib.lines.Line2D at 0x19f189eb908>]"
      ]
     },
     "execution_count": 147,
     "metadata": {},
     "output_type": "execute_result"
    },
    {
     "data": {
      "image/png": "[encoded data removed]",
      "text/plain": [
       "<matplotlib.figure.Figure at 0x19f0d459550>"
      ]
     },
     "metadata": {},
     "output_type": "display_data"
    }
   ],
   "source": [
    "U, s, V = lin.svd(train_matrix, full_matrices=False)\n",
    "plt.figure()\n",
    "plt.plot(s)"
   ]
  },
  {
   "cell_type": "code",
   "execution_count": 12,
   "metadata": {
    "collapsed": true
   },
   "outputs": [],
   "source": [
    "def check_preds(preds, A):\n",
    "    for (i,j) in preds:\n",
    "        if A[i,j]:\n",
    "            print('Error: preds contain an existing edge: ({},{})'.format(i,j))\n",
    "            return\n",
    "    print('Good: preds do not contain existing edges!')"
   ]
  },
  {
   "cell_type": "code",
   "execution_count": 146,
   "metadata": {
    "collapsed": false
   },
   "outputs": [
    {
     "name": "stdout",
     "output_type": "stream",
     "text": [
      "creating matrix\n",
      "m shape: (1434, 1434) m non zeros: 93200\n"
     ]
    }
   ],
   "source": [
    "DMBI_hackathon_ddi = DMBI_hackathon_ddi_utils()\n",
    "train_matrix = DMBI_hackathon_ddi.read_sparse_matrix(pd.read_csv('train.csv'))"
   ]
  },
  {
   "cell_type": "code",
   "execution_count": 14,
   "metadata": {
    "collapsed": true
   },
   "outputs": [],
   "source": [
    "#Evaluate model. \n",
    "#Note that holdout is based on random decision. \n",
    "#Test set contains new interactions that random selection does not emulate."
   ]
  },
  {
   "cell_type": "code",
   "execution_count": 15,
   "metadata": {
    "collapsed": true
   },
   "outputs": [],
   "source": [
    "def test_preds(preds, m_train_holdout, train_matrix):\n",
    "#     print(len(preds))\n",
    "#     s = [x[2] for x in preds if x[2]>0]\n",
    "#     print(len(s))\n",
    "    check_preds(preds, m_train_holdout)\n",
    "    class_correct = [train_matrix[x[0],x[1]] for x in preds]\n",
    "    average_precision = DMBI_hackathon_ddi.average_precision_at_k(k=1000,class_correct=class_correct)\n",
    "    print('average precision @ 1000: ', average_precision)\n",
    "    average_precision = DMBI_hackathon_ddi.average_precision_at_k(k=3000,class_correct=class_correct)\n",
    "    print('average precision @ 3000: ', average_precision)    "
   ]
  },
  {
   "cell_type": "code",
   "execution_count": 157,
   "metadata": {
    "collapsed": true
   },
   "outputs": [],
   "source": [
    "def test_methods(percent):\n",
    "    \n",
    "    print('\\ncomputing validation on', percent)\n",
    "    A, validation_set = DMBI_hackathon_ddi.create_holdout_set(train_matrix, train_percent=percent)\n",
    "\n",
    "#     Sim = cuts(A)\n",
    "#     #thresh = smart_thresh(A, Sim, k=4000, g=20)\n",
    "#     print('\\ncuts, self_jac only')\n",
    "#     preds = predict_test1(A, Sim)\n",
    "#     test_preds(preds, A, train_matrix)    \n",
    "\n",
    "    print('\\nsvd, rank 120')\n",
    "    preds = predict_svd(A, rank=120)\n",
    "    test_preds(preds, A, train_matrix)    \n",
    "\n",
    "    print('\\nsvd, rank 100')\n",
    "    preds = predict_svd(A, rank=100)\n",
    "    test_preds(preds, A, train_matrix)    \n",
    "    \n",
    "    print('\\nsvd, rank 200')\n",
    "    preds = predict_svd(A, rank=200)\n",
    "    test_preds(preds, A, train_matrix)    \n",
    "\n",
    "    Sim = cos_sim(A)\n",
    "    print('\\ntest1')\n",
    "    preds = predict_test1(A, Sim)\n",
    "    test_preds(preds, A, train_matrix)    \n",
    "\n",
    "    Sim = cos_sim(A)\n",
    "    print('\\ntest1')\n",
    "    preds = predict_V6(A, Sim)\n",
    "    test_preds(preds, A, train_matrix)    \n",
    "\n",
    "    Sim = cos_sim(A)\n",
    "    print('\\ntest1, self_sim 2')\n",
    "    preds = predict_test1(A, Sim, self_sim=2)\n",
    "    test_preds(preds, A, train_matrix)    \n",
    "\n",
    "    Sim = cos_sim(A)\n",
    "    print('\\ntest1, th .8')\n",
    "    preds = predict_test1(A, Sim, thresh=.8)\n",
    "    test_preds(preds, A, train_matrix)    \n",
    "\n",
    "    Sim = cos_sim(A)\n",
    "    print('\\ntest1, th .3')\n",
    "    preds = predict_test1(A, Sim, thresh=.3)\n",
    "    test_preds(preds, A, train_matrix)    \n",
    "\n",
    "    Sim = cos_sim(A)\n",
    "    print('\\ntest2')\n",
    "    preds = predict_test2(A, Sim)\n",
    "    test_preds(preds, A, train_matrix)    \n",
    "\n",
    "#     Sim = cos_sim(A)\n",
    "#     print('\\ncos_sim, soft diag, self_jac only')\n",
    "#     preds = predict_soft_diag(A, Sim)\n",
    "#     test_preds(preds, A, train_matrix)    \n",
    "\n",
    "#     Sim = cos_sim(A)\n",
    "#     thresh = smart_thresh(A, Sim, k=8000, g=50)\n",
    "#     print('\\ncos_sim, k=8000, g=20, self_jac only')\n",
    "#     preds = predict_thresh_diag(A, Sim, thresh)\n",
    "#     test_preds(preds, A, train_matrix)    \n",
    "\n",
    "#     Sim = cos_sim(A)\n",
    "#     thresh = smart_thresh(A, Sim, k=1000, g=50)\n",
    "#     print('\\ncos_sim, k=1000, g=20, self_jac only')\n",
    "#     preds = predict_thresh_diag(A, Sim, thresh)\n",
    "#     test_preds(preds, A, train_matrix)    \n",
    "    \n",
    "#     Sim = (jac(A) + cos_sim(A)) / 2\n",
    "#     thresh = smart_thresh(A, Sim, k=4000, g=20)\n",
    "#     print('\\nmean, k=4000, g=20, self_jac only')\n",
    "#     preds = predict_thresh_diag(A, Sim, thresh)\n",
    "#     test_preds(preds, A, train_matrix)    \n",
    "    \n",
    "#     Sim = jac(A)\n",
    "#     thresh = smart_thresh(A, Sim, k=4000, g=20)\n",
    "#     print('\\njac, k=4000, g=20, self_jac only')\n",
    "#     preds = predict_thresh_diag(A, Sim, thresh)\n",
    "#     test_preds(preds, A, train_matrix)        \n",
    "    \n",
    "    "
   ]
  },
  {
   "cell_type": "code",
   "execution_count": 17,
   "metadata": {
    "collapsed": true
   },
   "outputs": [],
   "source": [
    "# A\n",
    "# [(i,j) for j in range(A.shape[0]) for i in range(j) if A[i,j]==0]"
   ]
  },
  {
   "cell_type": "code",
   "execution_count": null,
   "metadata": {
    "collapsed": false
   },
   "outputs": [
    {
     "name": "stdout",
     "output_type": "stream",
     "text": [
      "\n",
      "computing validation on 0.9\n",
      "\n",
      "svd, rank 120\n",
      "Good: preds do not contain existing edges!\n",
      "average precision @ 1000:  0.9913976205927254\n",
      "average precision @ 3000:  0.9807686930910827\n",
      "\n",
      "svd, rank 100\n",
      "Good: preds do not contain existing edges!\n",
      "average precision @ 1000:  0.9902670252665086\n",
      "average precision @ 3000:  0.9815554389466012\n",
      "\n",
      "svd, rank 200\n"
     ]
    }
   ],
   "source": [
    "test_methods(.9)"
   ]
  },
  {
   "cell_type": "code",
   "execution_count": 95,
   "metadata": {
    "collapsed": false
   },
   "outputs": [
    {
     "data": {
      "text/plain": [
       "(array([5.25098e+05, 1.12600e+05, 8.69960e+04, 6.22300e+04, 4.49660e+04,\n",
       "        3.21340e+04, 2.40560e+04, 1.89710e+04, 1.63790e+04, 1.49810e+04,\n",
       "        1.28710e+04, 1.11610e+04, 9.45800e+03, 7.97900e+03, 7.07400e+03,\n",
       "        6.09900e+03, 5.16300e+03, 4.57500e+03, 3.54100e+03, 2.80700e+03,\n",
       "        2.42000e+03, 2.14500e+03, 1.68700e+03, 1.74800e+03, 1.26200e+03,\n",
       "        1.15000e+03, 9.88000e+02, 7.78000e+02, 8.70000e+02, 6.67000e+02,\n",
       "        5.73000e+02, 4.70000e+02, 5.87000e+02, 4.52000e+02, 3.82000e+02,\n",
       "        3.69000e+02, 3.76000e+02, 2.24000e+02, 2.93000e+02, 8.81000e+02]),\n",
       " array([0.        , 0.025     , 0.05000001, 0.07500001, 0.10000001,\n",
       "        0.12500001, 0.15000002, 0.17500002, 0.20000002, 0.22500003,\n",
       "        0.25000003, 0.27500003, 0.30000004, 0.32500004, 0.35000004,\n",
       "        0.37500004, 0.40000005, 0.42500005, 0.45000005, 0.47500006,\n",
       "        0.50000006, 0.52500006, 0.55000007, 0.57500007, 0.60000007,\n",
       "        0.62500007, 0.65000008, 0.67500008, 0.70000008, 0.72500009,\n",
       "        0.75000009, 0.77500009, 0.8000001 , 0.8250001 , 0.8500001 ,\n",
       "        0.8750001 , 0.90000011, 0.92500011, 0.95000011, 0.97500012,\n",
       "        1.00000012]),\n",
       " <a list of 40 Patch objects>)"
      ]
     },
     "execution_count": 95,
     "metadata": {},
     "output_type": "execute_result"
    },
    {
     "data": {
      "image/png": "[encoded data removed]",
      "text/plain": [
       "<matplotlib.figure.Figure at 0x19f08d372b0>"
      ]
     },
     "metadata": {},
     "output_type": "display_data"
    }
   ],
   "source": [
    "J_full = cos_sim(train_matrix)\n",
    "J_vals = [J_full[i,j] for i in range(J_full.shape[0]) for j in range(i)]\n",
    "plt.figure()\n",
    "plt.hist(J_vals, 40)"
   ]
  },
  {
   "cell_type": "code",
   "execution_count": 154,
   "metadata": {
    "collapsed": false
   },
   "outputs": [
    {
     "name": "stdout",
     "output_type": "stream",
     "text": [
      "creating matrix\n",
      "m shape: (1434, 1434) m non zeros: 93200\n",
      "Good: preds do not contain existing edges!\n",
      "980861\n",
      "writing predictions to file:  sample_predictions_V7.csv\n"
     ]
    }
   ],
   "source": [
    "#Create final submission file\n",
    "train_matrix = DMBI_hackathon_ddi.read_sparse_matrix(pd.read_csv('train.csv'))\n",
    "x,y = train_matrix.nonzero()\n",
    "num_interactions_train = len(x); assert len(x)==len(y)\n",
    "# edge_list = list(zip(x,y))\n",
    "# link_prediction = link_prediction_predictor(DMBI_hackathon_ddi.number_of_drugs)\n",
    "# link_prediction.fit(edge_list)\n",
    "# preds = link_prediction.predict()\n",
    "\n",
    "A = train_matrix\n",
    "#Sim = cos_sim(A)\n",
    "preds = predict_V8(A)\n",
    "\n",
    "check_preds(preds, A)\n",
    "print(len(preds))\n",
    "\n",
    "DMBI_hackathon_ddi.write_solution_to_file(preds,'sample_predictions_V8.csv',num_interactions_train=num_interactions_train)"
   ]
  },
  {
   "cell_type": "code",
   "execution_count": null,
   "metadata": {
    "collapsed": true
   },
   "outputs": [],
   "source": []
  }
 ],
 "metadata": {
  "anaconda-cloud": {},
  "kernelspec": {
   "display_name": "Python [default]",
   "language": "python",
   "name": "python3"
  },
  "language_info": {
   "codemirror_mode": {
    "name": "ipython",
    "version": 3
   },
   "file_extension": ".py",
   "mimetype": "text/x-python",
   "name": "python",
   "nbconvert_exporter": "python",
   "pygments_lexer": "ipython3",
   "version": "3.5.4"
  }
 },
 "nbformat": 4,
 "nbformat_minor": 2
}
